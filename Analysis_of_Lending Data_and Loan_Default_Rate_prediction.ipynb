{
 "cells": [
  {
   "cell_type": "markdown",
   "metadata": {},
   "source": [
    "# Analysis of Lending Data and Loan Default Rate Prediction\n",
    "\n",
    "## Team Members:\n",
    "\n",
    "* Kaluvala Dheeraj - 15AG1A05A2\n",
    "* P. Rahul Sharma  - 15AG1A05B4\n",
    "* R. Tharun        - 15AG1A0590\n",
    "* P. Architha      - 15AG1A05B6"
   ]
  },
  {
   "cell_type": "code",
   "execution_count": 30,
   "metadata": {},
   "outputs": [],
   "source": [
    "import os\n",
    "import pandas as pd\n",
    "import numpy as np\n",
    "from sklearn import preprocessing,metrics \n",
    "from IPython.core.display import HTML\n",
    "pd.set_option(\"display.max_columns\",75)\n",
    "import warnings\n",
    "warnings.filterwarnings('ignore')\n",
    "from sklearn.model_selection import train_test_split\n",
    "from sklearn.ensemble import RandomForestClassifier\n",
    "from sklearn.neighbors import KNeighborsClassifier\n",
    "from sklearn.metrics import accuracy_score\n",
    "import matplotlib.pyplot as plt\n",
    "import seaborn as sns\n",
    "%matplotlib inline\n",
    "from sklearn import linear_model,svm\n",
    "from sklearn.metrics import average_precision_score\n",
    "from sklearn.metrics import precision_recall_curve"
   ]
  },
  {
   "cell_type": "markdown",
   "metadata": {},
   "source": [
    "<p>\n",
    "<span style=\"color:blue\">\n",
    "> Importing data of Lending club for the years 2017-19\n",
    "</span>\n",
    "</p>"
   ]
  },
  {
   "cell_type": "code",
   "execution_count": 31,
   "metadata": {},
   "outputs": [],
   "source": [
    "Data17_18 = pd.read_csv('LoanStats_2017_18.csv',low_memory=False,skiprows=1)\n",
    "Data19    = pd.read_csv('LoanStats_2019.csv',low_memory=False,skiprows=1)"
   ]
  },
  {
   "cell_type": "markdown",
   "metadata": {},
   "source": [
    "## Data Cleaning"
   ]
  },
  {
   "cell_type": "markdown",
   "metadata": {},
   "source": [
    "<p>\n",
    "<span style=\"color:blue\">\n",
    "> Merged datasets of 2017-19 <br>\n",
    "> Removed all empty columns ( these are the columns with personal data of the borrowers. These are not disclosed by the company. so we dropped them)<br>\n",
    "> Target variable(Borrower is a Loan defaulter) - encoded to 0 or 1<br>\n",
    "</span>\n",
    "</p>"
   ]
  },
  {
   "cell_type": "code",
   "execution_count": 32,
   "metadata": {},
   "outputs": [],
   "source": [
    "dataset = pd.concat([Data17_18,Data19]) #merging 2017 to 2019 datasets\n",
    "dataset = dataset.iloc[:,2:111]          #removing empty columns\n",
    "empty_cols = [i for i in range(45,72)]   #more empty columns\n",
    "dataset = dataset.drop(dataset.columns[empty_cols],axis=1) #droping empty coloumns\n",
    "data_with_loanstatus_sliced = dataset[(dataset['loan_status']==\"Fully Paid\") | (dataset['loan_status']==\"Charged Off\")]\n",
    "di = {\"Fully Paid\":0, \"Charged Off\":1}   #converting target variable to boolean\n",
    "Dataset_withBoolTarget= data_with_loanstatus_sliced.replace({\"loan_status\": di})"
   ]
  },
  {
   "cell_type": "code",
   "execution_count": 33,
   "metadata": {},
   "outputs": [
    {
     "name": "stdout",
     "output_type": "stream",
     "text": [
      "Current shape of dataset : (409628, 82)\n"
     ]
    },
    {
     "data": {
      "text/html": [
       "<div>\n",
       "<style scoped>\n",
       "    .dataframe tbody tr th:only-of-type {\n",
       "        vertical-align: middle;\n",
       "    }\n",
       "\n",
       "    .dataframe tbody tr th {\n",
       "        vertical-align: top;\n",
       "    }\n",
       "\n",
       "    .dataframe thead th {\n",
       "        text-align: right;\n",
       "    }\n",
       "</style>\n",
       "<table border=\"1\" class=\"dataframe\">\n",
       "  <thead>\n",
       "    <tr style=\"text-align: right;\">\n",
       "      <th></th>\n",
       "      <th>loan_amnt</th>\n",
       "      <th>funded_amnt</th>\n",
       "      <th>funded_amnt_inv</th>\n",
       "      <th>term</th>\n",
       "      <th>int_rate</th>\n",
       "      <th>installment</th>\n",
       "      <th>grade</th>\n",
       "      <th>sub_grade</th>\n",
       "      <th>emp_title</th>\n",
       "      <th>emp_length</th>\n",
       "      <th>home_ownership</th>\n",
       "      <th>annual_inc</th>\n",
       "      <th>verification_status</th>\n",
       "      <th>issue_d</th>\n",
       "      <th>loan_status</th>\n",
       "      <th>pymnt_plan</th>\n",
       "      <th>url</th>\n",
       "      <th>desc</th>\n",
       "      <th>purpose</th>\n",
       "      <th>title</th>\n",
       "      <th>zip_code</th>\n",
       "      <th>addr_state</th>\n",
       "      <th>dti</th>\n",
       "      <th>delinq_2yrs</th>\n",
       "      <th>earliest_cr_line</th>\n",
       "      <th>inq_last_6mths</th>\n",
       "      <th>mths_since_last_delinq</th>\n",
       "      <th>mths_since_last_record</th>\n",
       "      <th>open_acc</th>\n",
       "      <th>pub_rec</th>\n",
       "      <th>revol_bal</th>\n",
       "      <th>revol_util</th>\n",
       "      <th>total_acc</th>\n",
       "      <th>initial_list_status</th>\n",
       "      <th>out_prncp</th>\n",
       "      <th>out_prncp_inv</th>\n",
       "      <th>total_pymnt</th>\n",
       "      <th>...</th>\n",
       "      <th>acc_open_past_24mths</th>\n",
       "      <th>avg_cur_bal</th>\n",
       "      <th>bc_open_to_buy</th>\n",
       "      <th>bc_util</th>\n",
       "      <th>chargeoff_within_12_mths</th>\n",
       "      <th>delinq_amnt</th>\n",
       "      <th>mo_sin_old_il_acct</th>\n",
       "      <th>mo_sin_old_rev_tl_op</th>\n",
       "      <th>mo_sin_rcnt_rev_tl_op</th>\n",
       "      <th>mo_sin_rcnt_tl</th>\n",
       "      <th>mort_acc</th>\n",
       "      <th>mths_since_recent_bc</th>\n",
       "      <th>mths_since_recent_bc_dlq</th>\n",
       "      <th>mths_since_recent_inq</th>\n",
       "      <th>mths_since_recent_revol_delinq</th>\n",
       "      <th>num_accts_ever_120_pd</th>\n",
       "      <th>num_actv_bc_tl</th>\n",
       "      <th>num_actv_rev_tl</th>\n",
       "      <th>num_bc_sats</th>\n",
       "      <th>num_bc_tl</th>\n",
       "      <th>num_il_tl</th>\n",
       "      <th>num_op_rev_tl</th>\n",
       "      <th>num_rev_accts</th>\n",
       "      <th>num_rev_tl_bal_gt_0</th>\n",
       "      <th>num_sats</th>\n",
       "      <th>num_tl_120dpd_2m</th>\n",
       "      <th>num_tl_30dpd</th>\n",
       "      <th>num_tl_90g_dpd_24m</th>\n",
       "      <th>num_tl_op_past_12m</th>\n",
       "      <th>pct_tl_nvr_dlq</th>\n",
       "      <th>percent_bc_gt_75</th>\n",
       "      <th>pub_rec_bankruptcies</th>\n",
       "      <th>tax_liens</th>\n",
       "      <th>tot_hi_cred_lim</th>\n",
       "      <th>total_bal_ex_mort</th>\n",
       "      <th>total_bc_limit</th>\n",
       "      <th>total_il_high_credit_limit</th>\n",
       "    </tr>\n",
       "  </thead>\n",
       "  <tbody>\n",
       "    <tr>\n",
       "      <th>0</th>\n",
       "      <td>12000.0</td>\n",
       "      <td>12000.0</td>\n",
       "      <td>12000.0</td>\n",
       "      <td>36 months</td>\n",
       "      <td>6.62%</td>\n",
       "      <td>368.45</td>\n",
       "      <td>A</td>\n",
       "      <td>A2</td>\n",
       "      <td>MANAGER INFORMATION DELIVERY</td>\n",
       "      <td>10+ years</td>\n",
       "      <td>MORTGAGE</td>\n",
       "      <td>105000.0</td>\n",
       "      <td>Not Verified</td>\n",
       "      <td>Dec-2013</td>\n",
       "      <td>0</td>\n",
       "      <td>n</td>\n",
       "      <td>NaN</td>\n",
       "      <td>NaN</td>\n",
       "      <td>debt_consolidation</td>\n",
       "      <td>UNIVERSAL CARD</td>\n",
       "      <td>060xx</td>\n",
       "      <td>CT</td>\n",
       "      <td>14.05</td>\n",
       "      <td>0.0</td>\n",
       "      <td>Mar-1994</td>\n",
       "      <td>1.0</td>\n",
       "      <td>43.0</td>\n",
       "      <td>NaN</td>\n",
       "      <td>12.0</td>\n",
       "      <td>0.0</td>\n",
       "      <td>13168.0</td>\n",
       "      <td>21.6%</td>\n",
       "      <td>22.0</td>\n",
       "      <td>w</td>\n",
       "      <td>0.0</td>\n",
       "      <td>0.0</td>\n",
       "      <td>13263.954639</td>\n",
       "      <td>...</td>\n",
       "      <td>4.0</td>\n",
       "      <td>26765.0</td>\n",
       "      <td>39432.0</td>\n",
       "      <td>25.0</td>\n",
       "      <td>0.0</td>\n",
       "      <td>0.0</td>\n",
       "      <td>146.0</td>\n",
       "      <td>237.0</td>\n",
       "      <td>20.0</td>\n",
       "      <td>3.0</td>\n",
       "      <td>4.0</td>\n",
       "      <td>20.0</td>\n",
       "      <td>NaN</td>\n",
       "      <td>3.0</td>\n",
       "      <td>43.0</td>\n",
       "      <td>0.0</td>\n",
       "      <td>2.0</td>\n",
       "      <td>2.0</td>\n",
       "      <td>5.0</td>\n",
       "      <td>5.0</td>\n",
       "      <td>9.0</td>\n",
       "      <td>8.0</td>\n",
       "      <td>9.0</td>\n",
       "      <td>2.0</td>\n",
       "      <td>12.0</td>\n",
       "      <td>0.0</td>\n",
       "      <td>0.0</td>\n",
       "      <td>0.0</td>\n",
       "      <td>2.0</td>\n",
       "      <td>95.5</td>\n",
       "      <td>0.0</td>\n",
       "      <td>0.0</td>\n",
       "      <td>0.0</td>\n",
       "      <td>333044.0</td>\n",
       "      <td>42603.0</td>\n",
       "      <td>52600.0</td>\n",
       "      <td>42769.0</td>\n",
       "    </tr>\n",
       "    <tr>\n",
       "      <th>1</th>\n",
       "      <td>28000.0</td>\n",
       "      <td>28000.0</td>\n",
       "      <td>28000.0</td>\n",
       "      <td>36 months</td>\n",
       "      <td>7.62%</td>\n",
       "      <td>872.52</td>\n",
       "      <td>A</td>\n",
       "      <td>A3</td>\n",
       "      <td>Area Sales Manager</td>\n",
       "      <td>5 years</td>\n",
       "      <td>MORTGAGE</td>\n",
       "      <td>325000.0</td>\n",
       "      <td>Source Verified</td>\n",
       "      <td>Dec-2013</td>\n",
       "      <td>0</td>\n",
       "      <td>n</td>\n",
       "      <td>NaN</td>\n",
       "      <td>NaN</td>\n",
       "      <td>debt_consolidation</td>\n",
       "      <td>Pay off other Installment loan</td>\n",
       "      <td>945xx</td>\n",
       "      <td>CA</td>\n",
       "      <td>18.55</td>\n",
       "      <td>0.0</td>\n",
       "      <td>Nov-1994</td>\n",
       "      <td>1.0</td>\n",
       "      <td>NaN</td>\n",
       "      <td>NaN</td>\n",
       "      <td>15.0</td>\n",
       "      <td>0.0</td>\n",
       "      <td>29581.0</td>\n",
       "      <td>54.6%</td>\n",
       "      <td>31.0</td>\n",
       "      <td>w</td>\n",
       "      <td>0.0</td>\n",
       "      <td>0.0</td>\n",
       "      <td>29150.980000</td>\n",
       "      <td>...</td>\n",
       "      <td>6.0</td>\n",
       "      <td>53306.0</td>\n",
       "      <td>13901.0</td>\n",
       "      <td>67.1</td>\n",
       "      <td>0.0</td>\n",
       "      <td>0.0</td>\n",
       "      <td>125.0</td>\n",
       "      <td>229.0</td>\n",
       "      <td>5.0</td>\n",
       "      <td>2.0</td>\n",
       "      <td>5.0</td>\n",
       "      <td>5.0</td>\n",
       "      <td>NaN</td>\n",
       "      <td>3.0</td>\n",
       "      <td>NaN</td>\n",
       "      <td>0.0</td>\n",
       "      <td>4.0</td>\n",
       "      <td>5.0</td>\n",
       "      <td>6.0</td>\n",
       "      <td>8.0</td>\n",
       "      <td>11.0</td>\n",
       "      <td>9.0</td>\n",
       "      <td>15.0</td>\n",
       "      <td>5.0</td>\n",
       "      <td>15.0</td>\n",
       "      <td>0.0</td>\n",
       "      <td>0.0</td>\n",
       "      <td>0.0</td>\n",
       "      <td>5.0</td>\n",
       "      <td>100.0</td>\n",
       "      <td>16.7</td>\n",
       "      <td>0.0</td>\n",
       "      <td>0.0</td>\n",
       "      <td>850886.0</td>\n",
       "      <td>199739.0</td>\n",
       "      <td>42200.0</td>\n",
       "      <td>196686.0</td>\n",
       "    </tr>\n",
       "    <tr>\n",
       "      <th>2</th>\n",
       "      <td>27050.0</td>\n",
       "      <td>27050.0</td>\n",
       "      <td>27050.0</td>\n",
       "      <td>36 months</td>\n",
       "      <td>10.99%</td>\n",
       "      <td>885.46</td>\n",
       "      <td>B</td>\n",
       "      <td>B2</td>\n",
       "      <td>Team Leadern Customer Ops &amp; Systems</td>\n",
       "      <td>10+ years</td>\n",
       "      <td>OWN</td>\n",
       "      <td>55000.0</td>\n",
       "      <td>Verified</td>\n",
       "      <td>Dec-2013</td>\n",
       "      <td>0</td>\n",
       "      <td>n</td>\n",
       "      <td>NaN</td>\n",
       "      <td>Borrower added on 12/31/13 &gt; Combining high ...</td>\n",
       "      <td>debt_consolidation</td>\n",
       "      <td>Debt Consolidation</td>\n",
       "      <td>481xx</td>\n",
       "      <td>MI</td>\n",
       "      <td>22.87</td>\n",
       "      <td>0.0</td>\n",
       "      <td>Oct-1986</td>\n",
       "      <td>0.0</td>\n",
       "      <td>NaN</td>\n",
       "      <td>NaN</td>\n",
       "      <td>14.0</td>\n",
       "      <td>0.0</td>\n",
       "      <td>36638.0</td>\n",
       "      <td>61.2%</td>\n",
       "      <td>27.0</td>\n",
       "      <td>w</td>\n",
       "      <td>0.0</td>\n",
       "      <td>0.0</td>\n",
       "      <td>31752.530000</td>\n",
       "      <td>...</td>\n",
       "      <td>3.0</td>\n",
       "      <td>9570.0</td>\n",
       "      <td>16473.0</td>\n",
       "      <td>53.9</td>\n",
       "      <td>0.0</td>\n",
       "      <td>0.0</td>\n",
       "      <td>117.0</td>\n",
       "      <td>326.0</td>\n",
       "      <td>16.0</td>\n",
       "      <td>6.0</td>\n",
       "      <td>4.0</td>\n",
       "      <td>16.0</td>\n",
       "      <td>NaN</td>\n",
       "      <td>8.0</td>\n",
       "      <td>NaN</td>\n",
       "      <td>0.0</td>\n",
       "      <td>2.0</td>\n",
       "      <td>4.0</td>\n",
       "      <td>4.0</td>\n",
       "      <td>8.0</td>\n",
       "      <td>8.0</td>\n",
       "      <td>10.0</td>\n",
       "      <td>15.0</td>\n",
       "      <td>4.0</td>\n",
       "      <td>14.0</td>\n",
       "      <td>0.0</td>\n",
       "      <td>0.0</td>\n",
       "      <td>0.0</td>\n",
       "      <td>1.0</td>\n",
       "      <td>100.0</td>\n",
       "      <td>25.0</td>\n",
       "      <td>0.0</td>\n",
       "      <td>0.0</td>\n",
       "      <td>138554.0</td>\n",
       "      <td>70186.0</td>\n",
       "      <td>35700.0</td>\n",
       "      <td>33054.0</td>\n",
       "    </tr>\n",
       "  </tbody>\n",
       "</table>\n",
       "<p>3 rows × 82 columns</p>\n",
       "</div>"
      ],
      "text/plain": [
       "   loan_amnt  funded_amnt  funded_amnt_inv        term int_rate  installment  \\\n",
       "0    12000.0      12000.0          12000.0   36 months    6.62%       368.45   \n",
       "1    28000.0      28000.0          28000.0   36 months    7.62%       872.52   \n",
       "2    27050.0      27050.0          27050.0   36 months   10.99%       885.46   \n",
       "\n",
       "  grade sub_grade                            emp_title emp_length  \\\n",
       "0     A        A2         MANAGER INFORMATION DELIVERY  10+ years   \n",
       "1     A        A3                   Area Sales Manager    5 years   \n",
       "2     B        B2  Team Leadern Customer Ops & Systems  10+ years   \n",
       "\n",
       "  home_ownership  annual_inc verification_status   issue_d  loan_status  \\\n",
       "0       MORTGAGE    105000.0        Not Verified  Dec-2013            0   \n",
       "1       MORTGAGE    325000.0     Source Verified  Dec-2013            0   \n",
       "2            OWN     55000.0            Verified  Dec-2013            0   \n",
       "\n",
       "  pymnt_plan  url                                               desc  \\\n",
       "0          n  NaN                                                NaN   \n",
       "1          n  NaN                                                NaN   \n",
       "2          n  NaN    Borrower added on 12/31/13 > Combining high ...   \n",
       "\n",
       "              purpose                           title zip_code addr_state  \\\n",
       "0  debt_consolidation                  UNIVERSAL CARD    060xx         CT   \n",
       "1  debt_consolidation  Pay off other Installment loan    945xx         CA   \n",
       "2  debt_consolidation              Debt Consolidation    481xx         MI   \n",
       "\n",
       "     dti  delinq_2yrs earliest_cr_line  inq_last_6mths  \\\n",
       "0  14.05          0.0         Mar-1994             1.0   \n",
       "1  18.55          0.0         Nov-1994             1.0   \n",
       "2  22.87          0.0         Oct-1986             0.0   \n",
       "\n",
       "   mths_since_last_delinq  mths_since_last_record  open_acc  pub_rec  \\\n",
       "0                    43.0                     NaN      12.0      0.0   \n",
       "1                     NaN                     NaN      15.0      0.0   \n",
       "2                     NaN                     NaN      14.0      0.0   \n",
       "\n",
       "   revol_bal revol_util  total_acc initial_list_status  out_prncp  \\\n",
       "0    13168.0      21.6%       22.0                   w        0.0   \n",
       "1    29581.0      54.6%       31.0                   w        0.0   \n",
       "2    36638.0      61.2%       27.0                   w        0.0   \n",
       "\n",
       "   out_prncp_inv   total_pymnt             ...              \\\n",
       "0            0.0  13263.954639             ...               \n",
       "1            0.0  29150.980000             ...               \n",
       "2            0.0  31752.530000             ...               \n",
       "\n",
       "   acc_open_past_24mths  avg_cur_bal  bc_open_to_buy  bc_util  \\\n",
       "0                   4.0      26765.0         39432.0     25.0   \n",
       "1                   6.0      53306.0         13901.0     67.1   \n",
       "2                   3.0       9570.0         16473.0     53.9   \n",
       "\n",
       "   chargeoff_within_12_mths  delinq_amnt mo_sin_old_il_acct  \\\n",
       "0                       0.0          0.0              146.0   \n",
       "1                       0.0          0.0              125.0   \n",
       "2                       0.0          0.0              117.0   \n",
       "\n",
       "   mo_sin_old_rev_tl_op  mo_sin_rcnt_rev_tl_op  mo_sin_rcnt_tl  mort_acc  \\\n",
       "0                 237.0                   20.0             3.0       4.0   \n",
       "1                 229.0                    5.0             2.0       5.0   \n",
       "2                 326.0                   16.0             6.0       4.0   \n",
       "\n",
       "   mths_since_recent_bc  mths_since_recent_bc_dlq  mths_since_recent_inq  \\\n",
       "0                  20.0                       NaN                    3.0   \n",
       "1                   5.0                       NaN                    3.0   \n",
       "2                  16.0                       NaN                    8.0   \n",
       "\n",
       "   mths_since_recent_revol_delinq  num_accts_ever_120_pd  num_actv_bc_tl  \\\n",
       "0                            43.0                    0.0             2.0   \n",
       "1                             NaN                    0.0             4.0   \n",
       "2                             NaN                    0.0             2.0   \n",
       "\n",
       "   num_actv_rev_tl  num_bc_sats  num_bc_tl  num_il_tl  num_op_rev_tl  \\\n",
       "0              2.0          5.0        5.0        9.0            8.0   \n",
       "1              5.0          6.0        8.0       11.0            9.0   \n",
       "2              4.0          4.0        8.0        8.0           10.0   \n",
       "\n",
       "   num_rev_accts  num_rev_tl_bal_gt_0  num_sats  num_tl_120dpd_2m  \\\n",
       "0            9.0                  2.0      12.0               0.0   \n",
       "1           15.0                  5.0      15.0               0.0   \n",
       "2           15.0                  4.0      14.0               0.0   \n",
       "\n",
       "   num_tl_30dpd  num_tl_90g_dpd_24m  num_tl_op_past_12m  pct_tl_nvr_dlq  \\\n",
       "0           0.0                 0.0                 2.0            95.5   \n",
       "1           0.0                 0.0                 5.0           100.0   \n",
       "2           0.0                 0.0                 1.0           100.0   \n",
       "\n",
       "   percent_bc_gt_75  pub_rec_bankruptcies  tax_liens  tot_hi_cred_lim  \\\n",
       "0               0.0                   0.0        0.0         333044.0   \n",
       "1              16.7                   0.0        0.0         850886.0   \n",
       "2              25.0                   0.0        0.0         138554.0   \n",
       "\n",
       "   total_bal_ex_mort  total_bc_limit  total_il_high_credit_limit  \n",
       "0            42603.0         52600.0                     42769.0  \n",
       "1           199739.0         42200.0                    196686.0  \n",
       "2            70186.0         35700.0                     33054.0  \n",
       "\n",
       "[3 rows x 82 columns]"
      ]
     },
     "execution_count": 33,
     "metadata": {},
     "output_type": "execute_result"
    }
   ],
   "source": [
    "Dataset_withBoolTarget['loan_status'].value_counts()\n",
    "print(\"Current shape of dataset :\",Dataset_withBoolTarget.shape)\n",
    "Dataset_withBoolTarget.head(3)"
   ]
  },
  {
   "cell_type": "code",
   "execution_count": 34,
   "metadata": {},
   "outputs": [
    {
     "name": "stdout",
     "output_type": "stream",
     "text": [
      "Current shape of dataset : (409628, 40)\n"
     ]
    }
   ],
   "source": [
    "dataset=Dataset_withBoolTarget.dropna(thresh = 409628,axis=1) # it is minimum number of non-NA values\n",
    "print(\"Current shape of dataset :\",dataset.shape)"
   ]
  },
  {
   "cell_type": "markdown",
   "metadata": {},
   "source": [
    "<p>\n",
    "<span style=\"color:blue\">\n",
    "> some more columns were dropped in the below cell. some of them are not related to our target variable and some of them are redundant. <br>\n",
    "</span>\n",
    "</p>"
   ]
  },
  {
   "cell_type": "code",
   "execution_count": 35,
   "metadata": {},
   "outputs": [
    {
     "name": "stdout",
     "output_type": "stream",
     "text": [
      "Current shape of dataset : (409628, 25)\n"
     ]
    }
   ],
   "source": [
    "del_col_names = [\"delinq_2yrs\",  \"last_pymnt_d\", \"chargeoff_within_12_mths\",\"delinq_amnt\",\"emp_title\", \"term\", \"emp_title\", \"pymnt_plan\",\"purpose\",\"title\", \"zip_code\", \"verification_status\", \"dti\",\"earliest_cr_line\", \"initial_list_status\", \"out_prncp\",\n",
    "\"pymnt_plan\", \"num_tl_90g_dpd_24m\", \"num_tl_30dpd\", \"num_tl_120dpd_2m\", \"num_accts_ever_120_pd\", \"delinq_amnt\", \n",
    "\"chargeoff_within_12_mths\", \"total_rec_late_fee\", \"out_prncp_inv\", \"issue_d\"] #deleting some more columns\n",
    "dataset = dataset.drop(labels = del_col_names, axis = 1,errors = 'ignore') \n",
    "print(\"Current shape of dataset :\",dataset.shape)"
   ]
  },
  {
   "cell_type": "markdown",
   "metadata": {},
   "source": [
    "<p>\n",
    "<span style=\"color:blue\">\n",
    "> After indepth research about these rest 25 features, We selected ~7 relevant features using correlation matrix values. After few cells (in this ipython notebook), we used \"RFE (Recursive Feature Elimination)\" and \" PCA(Principle Component Analysis)\" do the actual feature selection.<br>\n",
    "</span>\n",
    "</p>"
   ]
  },
  {
   "cell_type": "code",
   "execution_count": 36,
   "metadata": {},
   "outputs": [
    {
     "name": "stdout",
     "output_type": "stream",
     "text": [
      "Current shape of dataset : (409628, 7)\n"
     ]
    }
   ],
   "source": [
    "features = ['funded_amnt','annual_inc',\"last_pymnt_amnt\", \"pub_rec\", \"int_rate\", \"open_acc\",'loan_status']\n",
    "#'sub_grade' #selecting final features #'addr_state''tax_liens',\n",
    "Final_data = dataset[features] #19 features with target var\n",
    "Final_data[\"int_rate\"] = Final_data[\"int_rate\"].apply(lambda x:float(x[:-1]) ) #reomving % sign, converting to float  - int_rate column\n",
    "Final_data= Final_data.reset_index(drop=True)\n",
    "print(\"Current shape of dataset :\",Final_data.shape)"
   ]
  },
  {
   "cell_type": "markdown",
   "metadata": {},
   "source": [
    "## Data Transformation\n"
   ]
  },
  {
   "cell_type": "code",
   "execution_count": 37,
   "metadata": {},
   "outputs": [
    {
     "name": "stdout",
     "output_type": "stream",
     "text": [
      "Current shape of dataset : (409628, 7)\n"
     ]
    },
    {
     "data": {
      "text/html": [
       "<div>\n",
       "<style scoped>\n",
       "    .dataframe tbody tr th:only-of-type {\n",
       "        vertical-align: middle;\n",
       "    }\n",
       "\n",
       "    .dataframe tbody tr th {\n",
       "        vertical-align: top;\n",
       "    }\n",
       "\n",
       "    .dataframe thead th {\n",
       "        text-align: right;\n",
       "    }\n",
       "</style>\n",
       "<table border=\"1\" class=\"dataframe\">\n",
       "  <thead>\n",
       "    <tr style=\"text-align: right;\">\n",
       "      <th></th>\n",
       "      <th>funded_amnt</th>\n",
       "      <th>annual_inc</th>\n",
       "      <th>last_pymnt_amnt</th>\n",
       "      <th>pub_rec</th>\n",
       "      <th>int_rate</th>\n",
       "      <th>open_acc</th>\n",
       "      <th>loan_status</th>\n",
       "    </tr>\n",
       "  </thead>\n",
       "  <tbody>\n",
       "    <tr>\n",
       "      <th>409623</th>\n",
       "      <td>18400.0</td>\n",
       "      <td>110000.0</td>\n",
       "      <td>7394.95</td>\n",
       "      <td>0.0</td>\n",
       "      <td>14.47</td>\n",
       "      <td>18.0</td>\n",
       "      <td>0</td>\n",
       "    </tr>\n",
       "    <tr>\n",
       "      <th>409624</th>\n",
       "      <td>22000.0</td>\n",
       "      <td>78000.0</td>\n",
       "      <td>17.50</td>\n",
       "      <td>1.0</td>\n",
       "      <td>19.97</td>\n",
       "      <td>18.0</td>\n",
       "      <td>1</td>\n",
       "    </tr>\n",
       "    <tr>\n",
       "      <th>409625</th>\n",
       "      <td>2000.0</td>\n",
       "      <td>83000.0</td>\n",
       "      <td>1500.68</td>\n",
       "      <td>0.0</td>\n",
       "      <td>7.90</td>\n",
       "      <td>21.0</td>\n",
       "      <td>0</td>\n",
       "    </tr>\n",
       "    <tr>\n",
       "      <th>409626</th>\n",
       "      <td>20700.0</td>\n",
       "      <td>46000.0</td>\n",
       "      <td>4856.22</td>\n",
       "      <td>0.0</td>\n",
       "      <td>16.99</td>\n",
       "      <td>18.0</td>\n",
       "      <td>0</td>\n",
       "    </tr>\n",
       "    <tr>\n",
       "      <th>409627</th>\n",
       "      <td>10000.0</td>\n",
       "      <td>46000.0</td>\n",
       "      <td>367.20</td>\n",
       "      <td>0.0</td>\n",
       "      <td>19.20</td>\n",
       "      <td>6.0</td>\n",
       "      <td>0</td>\n",
       "    </tr>\n",
       "  </tbody>\n",
       "</table>\n",
       "</div>"
      ],
      "text/plain": [
       "        funded_amnt  annual_inc  last_pymnt_amnt  pub_rec  int_rate  open_acc  \\\n",
       "409623      18400.0    110000.0          7394.95      0.0     14.47      18.0   \n",
       "409624      22000.0     78000.0            17.50      1.0     19.97      18.0   \n",
       "409625       2000.0     83000.0          1500.68      0.0      7.90      21.0   \n",
       "409626      20700.0     46000.0          4856.22      0.0     16.99      18.0   \n",
       "409627      10000.0     46000.0           367.20      0.0     19.20       6.0   \n",
       "\n",
       "        loan_status  \n",
       "409623            0  \n",
       "409624            1  \n",
       "409625            0  \n",
       "409626            0  \n",
       "409627            0  "
      ]
     },
     "execution_count": 37,
     "metadata": {},
     "output_type": "execute_result"
    }
   ],
   "source": [
    "print(\"Current shape of dataset :\",Final_data.shape)\n",
    "Final_data.tail()"
   ]
  },
  {
   "cell_type": "markdown",
   "metadata": {},
   "source": [
    "## Filling Missing values and Feature scaling \n"
   ]
  },
  {
   "cell_type": "markdown",
   "metadata": {},
   "source": [
    "<p>\n",
    "<span style=\"color:blue\">\n",
    "> We have some important features which have some missing values. We filled those missing values with the mean of the column. <br>\n",
    "> We scaled the all the features here by using standard scaler. <br>\n",
    "> We sampled our dataset here after infering from the learning curve plotted.\n",
    "</span>\n",
    "</p>"
   ]
  },
  {
   "cell_type": "code",
   "execution_count": 38,
   "metadata": {},
   "outputs": [
    {
     "name": "stdout",
     "output_type": "stream",
     "text": [
      "Current shape of dataset : (409628, 7)\n"
     ]
    }
   ],
   "source": [
    "Final_data.fillna(Final_data.mean(),inplace = True)\n",
    "HTML(Final_data.tail().to_html())\n",
    "print(\"Current shape of dataset :\",Final_data.shape)"
   ]
  },
  {
   "cell_type": "code",
   "execution_count": 39,
   "metadata": {
    "scrolled": true
   },
   "outputs": [
    {
     "data": {
      "text/plain": [
       "0    338906\n",
       "1     70722\n",
       "Name: loan_status, dtype: int64"
      ]
     },
     "execution_count": 39,
     "metadata": {},
     "output_type": "execute_result"
    }
   ],
   "source": [
    "scl = preprocessing.StandardScaler() #instance of preprocessing\n",
    "fields = Final_data.columns.values[:-1]\n",
    "data_clean = pd.DataFrame(scl.fit_transform(Final_data[fields]), columns = fields)\n",
    "data_clean['loan_status'] = Final_data['loan_status']\n",
    "data_clean['loan_status'].value_counts()"
   ]
  },
  {
   "cell_type": "code",
   "execution_count": 40,
   "metadata": {},
   "outputs": [
    {
     "name": "stdout",
     "output_type": "stream",
     "text": [
      "Current shape of dataset : (20000, 7)\n"
     ]
    },
    {
     "data": {
      "text/html": [
       "<div>\n",
       "<style scoped>\n",
       "    .dataframe tbody tr th:only-of-type {\n",
       "        vertical-align: middle;\n",
       "    }\n",
       "\n",
       "    .dataframe tbody tr th {\n",
       "        vertical-align: top;\n",
       "    }\n",
       "\n",
       "    .dataframe thead th {\n",
       "        text-align: right;\n",
       "    }\n",
       "</style>\n",
       "<table border=\"1\" class=\"dataframe\">\n",
       "  <thead>\n",
       "    <tr style=\"text-align: right;\">\n",
       "      <th></th>\n",
       "      <th>funded_amnt</th>\n",
       "      <th>annual_inc</th>\n",
       "      <th>last_pymnt_amnt</th>\n",
       "      <th>pub_rec</th>\n",
       "      <th>int_rate</th>\n",
       "      <th>open_acc</th>\n",
       "      <th>loan_status</th>\n",
       "    </tr>\n",
       "  </thead>\n",
       "  <tbody>\n",
       "    <tr>\n",
       "      <th>0</th>\n",
       "      <td>0.364997</td>\n",
       "      <td>-0.492074</td>\n",
       "      <td>-0.637631</td>\n",
       "      <td>-0.323447</td>\n",
       "      <td>-0.442309</td>\n",
       "      <td>-0.470149</td>\n",
       "      <td>1</td>\n",
       "    </tr>\n",
       "    <tr>\n",
       "      <th>1</th>\n",
       "      <td>-0.659958</td>\n",
       "      <td>-0.437443</td>\n",
       "      <td>-0.682007</td>\n",
       "      <td>-0.323447</td>\n",
       "      <td>0.090664</td>\n",
       "      <td>-0.871521</td>\n",
       "      <td>1</td>\n",
       "    </tr>\n",
       "    <tr>\n",
       "      <th>2</th>\n",
       "      <td>-1.204182</td>\n",
       "      <td>-0.157764</td>\n",
       "      <td>-0.707104</td>\n",
       "      <td>1.568445</td>\n",
       "      <td>0.240990</td>\n",
       "      <td>0.332595</td>\n",
       "      <td>0</td>\n",
       "    </tr>\n",
       "    <tr>\n",
       "      <th>3</th>\n",
       "      <td>-0.783920</td>\n",
       "      <td>-0.903575</td>\n",
       "      <td>-0.685269</td>\n",
       "      <td>-0.323447</td>\n",
       "      <td>0.981232</td>\n",
       "      <td>-1.072207</td>\n",
       "      <td>0</td>\n",
       "    </tr>\n",
       "    <tr>\n",
       "      <th>4</th>\n",
       "      <td>-1.022774</td>\n",
       "      <td>-0.735768</td>\n",
       "      <td>-0.702483</td>\n",
       "      <td>-0.323447</td>\n",
       "      <td>-1.695026</td>\n",
       "      <td>-0.068777</td>\n",
       "      <td>1</td>\n",
       "    </tr>\n",
       "  </tbody>\n",
       "</table>\n",
       "</div>"
      ],
      "text/plain": [
       "   funded_amnt  annual_inc  last_pymnt_amnt   pub_rec  int_rate  open_acc  \\\n",
       "0     0.364997   -0.492074        -0.637631 -0.323447 -0.442309 -0.470149   \n",
       "1    -0.659958   -0.437443        -0.682007 -0.323447  0.090664 -0.871521   \n",
       "2    -1.204182   -0.157764        -0.707104  1.568445  0.240990  0.332595   \n",
       "3    -0.783920   -0.903575        -0.685269 -0.323447  0.981232 -1.072207   \n",
       "4    -1.022774   -0.735768        -0.702483 -0.323447 -1.695026 -0.068777   \n",
       "\n",
       "   loan_status  \n",
       "0            1  \n",
       "1            1  \n",
       "2            0  \n",
       "3            0  \n",
       "4            1  "
      ]
     },
     "execution_count": 40,
     "metadata": {},
     "output_type": "execute_result"
    }
   ],
   "source": [
    "loanstatus_0 = data_clean[data_clean[\"loan_status\"]==0]\n",
    "loanstatus_1 = data_clean[data_clean[\"loan_status\"]==1]\n",
    "subset_of_loanstatus_0 = loanstatus_0.sample(n=10000)\n",
    "subset_of_loanstatus_1 = loanstatus_1.sample(n=10000)\n",
    "data_clean = pd.concat([subset_of_loanstatus_1, subset_of_loanstatus_0])\n",
    "data_clean = data_clean.sample(frac=1).reset_index(drop=True)\n",
    "print(\"Current shape of dataset :\",data_clean.shape)\n",
    "data_clean.head()"
   ]
  },
  {
   "cell_type": "code",
   "execution_count": 41,
   "metadata": {},
   "outputs": [
    {
     "data": {
      "text/html": [
       "<div>\n",
       "<style scoped>\n",
       "    .dataframe tbody tr th:only-of-type {\n",
       "        vertical-align: middle;\n",
       "    }\n",
       "\n",
       "    .dataframe tbody tr th {\n",
       "        vertical-align: top;\n",
       "    }\n",
       "\n",
       "    .dataframe thead th {\n",
       "        text-align: right;\n",
       "    }\n",
       "</style>\n",
       "<table border=\"1\" class=\"dataframe\">\n",
       "  <thead>\n",
       "    <tr style=\"text-align: right;\">\n",
       "      <th></th>\n",
       "      <th>funded_amnt</th>\n",
       "      <th>annual_inc</th>\n",
       "      <th>last_pymnt_amnt</th>\n",
       "      <th>pub_rec</th>\n",
       "      <th>int_rate</th>\n",
       "      <th>open_acc</th>\n",
       "      <th>loan_status</th>\n",
       "    </tr>\n",
       "  </thead>\n",
       "  <tbody>\n",
       "    <tr>\n",
       "      <th>0</th>\n",
       "      <td>0.364997</td>\n",
       "      <td>-0.492074</td>\n",
       "      <td>-0.637631</td>\n",
       "      <td>-0.323447</td>\n",
       "      <td>-0.442309</td>\n",
       "      <td>-0.470149</td>\n",
       "      <td>1</td>\n",
       "    </tr>\n",
       "    <tr>\n",
       "      <th>1</th>\n",
       "      <td>-0.659958</td>\n",
       "      <td>-0.437443</td>\n",
       "      <td>-0.682007</td>\n",
       "      <td>-0.323447</td>\n",
       "      <td>0.090664</td>\n",
       "      <td>-0.871521</td>\n",
       "      <td>1</td>\n",
       "    </tr>\n",
       "    <tr>\n",
       "      <th>2</th>\n",
       "      <td>-1.204182</td>\n",
       "      <td>-0.157764</td>\n",
       "      <td>-0.707104</td>\n",
       "      <td>1.568445</td>\n",
       "      <td>0.240990</td>\n",
       "      <td>0.332595</td>\n",
       "      <td>0</td>\n",
       "    </tr>\n",
       "    <tr>\n",
       "      <th>3</th>\n",
       "      <td>-0.783920</td>\n",
       "      <td>-0.903575</td>\n",
       "      <td>-0.685269</td>\n",
       "      <td>-0.323447</td>\n",
       "      <td>0.981232</td>\n",
       "      <td>-1.072207</td>\n",
       "      <td>0</td>\n",
       "    </tr>\n",
       "    <tr>\n",
       "      <th>4</th>\n",
       "      <td>-1.022774</td>\n",
       "      <td>-0.735768</td>\n",
       "      <td>-0.702483</td>\n",
       "      <td>-0.323447</td>\n",
       "      <td>-1.695026</td>\n",
       "      <td>-0.068777</td>\n",
       "      <td>1</td>\n",
       "    </tr>\n",
       "  </tbody>\n",
       "</table>\n",
       "</div>"
      ],
      "text/plain": [
       "   funded_amnt  annual_inc  last_pymnt_amnt   pub_rec  int_rate  open_acc  \\\n",
       "0     0.364997   -0.492074        -0.637631 -0.323447 -0.442309 -0.470149   \n",
       "1    -0.659958   -0.437443        -0.682007 -0.323447  0.090664 -0.871521   \n",
       "2    -1.204182   -0.157764        -0.707104  1.568445  0.240990  0.332595   \n",
       "3    -0.783920   -0.903575        -0.685269 -0.323447  0.981232 -1.072207   \n",
       "4    -1.022774   -0.735768        -0.702483 -0.323447 -1.695026 -0.068777   \n",
       "\n",
       "   loan_status  \n",
       "0            1  \n",
       "1            1  \n",
       "2            0  \n",
       "3            0  \n",
       "4            1  "
      ]
     },
     "execution_count": 41,
     "metadata": {},
     "output_type": "execute_result"
    }
   ],
   "source": [
    "data_clean.head()"
   ]
  },
  {
   "cell_type": "markdown",
   "metadata": {},
   "source": [
    "<p>\n",
    "<span style=\"color:blue\">\n",
    "Below are correlation values between the features finally selected.\n",
    "</span>\n",
    "</p>"
   ]
  },
  {
   "cell_type": "code",
   "execution_count": 42,
   "metadata": {
    "scrolled": true
   },
   "outputs": [
    {
     "data": {
      "text/html": [
       "<div>\n",
       "<style scoped>\n",
       "    .dataframe tbody tr th:only-of-type {\n",
       "        vertical-align: middle;\n",
       "    }\n",
       "\n",
       "    .dataframe tbody tr th {\n",
       "        vertical-align: top;\n",
       "    }\n",
       "\n",
       "    .dataframe thead th {\n",
       "        text-align: right;\n",
       "    }\n",
       "</style>\n",
       "<table border=\"1\" class=\"dataframe\">\n",
       "  <thead>\n",
       "    <tr style=\"text-align: right;\">\n",
       "      <th></th>\n",
       "      <th>funded_amnt</th>\n",
       "      <th>annual_inc</th>\n",
       "      <th>last_pymnt_amnt</th>\n",
       "      <th>pub_rec</th>\n",
       "      <th>int_rate</th>\n",
       "      <th>open_acc</th>\n",
       "      <th>loan_status</th>\n",
       "    </tr>\n",
       "  </thead>\n",
       "  <tbody>\n",
       "    <tr>\n",
       "      <th>funded_amnt</th>\n",
       "      <td>1.000000</td>\n",
       "      <td>0.426768</td>\n",
       "      <td>0.322650</td>\n",
       "      <td>-0.081693</td>\n",
       "      <td>0.183286</td>\n",
       "      <td>0.201675</td>\n",
       "      <td>0.067231</td>\n",
       "    </tr>\n",
       "    <tr>\n",
       "      <th>annual_inc</th>\n",
       "      <td>0.426768</td>\n",
       "      <td>1.000000</td>\n",
       "      <td>0.201161</td>\n",
       "      <td>-0.004452</td>\n",
       "      <td>-0.055421</td>\n",
       "      <td>0.173040</td>\n",
       "      <td>-0.083378</td>\n",
       "    </tr>\n",
       "    <tr>\n",
       "      <th>last_pymnt_amnt</th>\n",
       "      <td>0.322650</td>\n",
       "      <td>0.201161</td>\n",
       "      <td>1.000000</td>\n",
       "      <td>-0.031413</td>\n",
       "      <td>-0.012365</td>\n",
       "      <td>0.061421</td>\n",
       "      <td>-0.467207</td>\n",
       "    </tr>\n",
       "    <tr>\n",
       "      <th>pub_rec</th>\n",
       "      <td>-0.081693</td>\n",
       "      <td>-0.004452</td>\n",
       "      <td>-0.031413</td>\n",
       "      <td>1.000000</td>\n",
       "      <td>0.048396</td>\n",
       "      <td>-0.025659</td>\n",
       "      <td>0.020336</td>\n",
       "    </tr>\n",
       "    <tr>\n",
       "      <th>int_rate</th>\n",
       "      <td>0.183286</td>\n",
       "      <td>-0.055421</td>\n",
       "      <td>-0.012365</td>\n",
       "      <td>0.048396</td>\n",
       "      <td>1.000000</td>\n",
       "      <td>-0.002985</td>\n",
       "      <td>0.298659</td>\n",
       "    </tr>\n",
       "    <tr>\n",
       "      <th>open_acc</th>\n",
       "      <td>0.201675</td>\n",
       "      <td>0.173040</td>\n",
       "      <td>0.061421</td>\n",
       "      <td>-0.025659</td>\n",
       "      <td>-0.002985</td>\n",
       "      <td>1.000000</td>\n",
       "      <td>0.031179</td>\n",
       "    </tr>\n",
       "    <tr>\n",
       "      <th>loan_status</th>\n",
       "      <td>0.067231</td>\n",
       "      <td>-0.083378</td>\n",
       "      <td>-0.467207</td>\n",
       "      <td>0.020336</td>\n",
       "      <td>0.298659</td>\n",
       "      <td>0.031179</td>\n",
       "      <td>1.000000</td>\n",
       "    </tr>\n",
       "  </tbody>\n",
       "</table>\n",
       "</div>"
      ],
      "text/plain": [
       "                 funded_amnt  annual_inc  last_pymnt_amnt   pub_rec  int_rate  \\\n",
       "funded_amnt         1.000000    0.426768         0.322650 -0.081693  0.183286   \n",
       "annual_inc          0.426768    1.000000         0.201161 -0.004452 -0.055421   \n",
       "last_pymnt_amnt     0.322650    0.201161         1.000000 -0.031413 -0.012365   \n",
       "pub_rec            -0.081693   -0.004452        -0.031413  1.000000  0.048396   \n",
       "int_rate            0.183286   -0.055421        -0.012365  0.048396  1.000000   \n",
       "open_acc            0.201675    0.173040         0.061421 -0.025659 -0.002985   \n",
       "loan_status         0.067231   -0.083378        -0.467207  0.020336  0.298659   \n",
       "\n",
       "                 open_acc  loan_status  \n",
       "funded_amnt      0.201675     0.067231  \n",
       "annual_inc       0.173040    -0.083378  \n",
       "last_pymnt_amnt  0.061421    -0.467207  \n",
       "pub_rec         -0.025659     0.020336  \n",
       "int_rate        -0.002985     0.298659  \n",
       "open_acc         1.000000     0.031179  \n",
       "loan_status      0.031179     1.000000  "
      ]
     },
     "execution_count": 42,
     "metadata": {},
     "output_type": "execute_result"
    }
   ],
   "source": [
    "data_clean.corr()"
   ]
  },
  {
   "cell_type": "markdown",
   "metadata": {},
   "source": [
    "## Learning Curve"
   ]
  },
  {
   "cell_type": "markdown",
   "metadata": {},
   "source": [
    "<p>\n",
    "<span style=\"color:blue\">\n",
    "> This learning curve clearly shows that our models are not learning anything after given samples. So we randomly sampled our dataset and used only 20,000 samples of our dataset.<br>\n",
    "> Note: In the plot, only ~16000 samples are shown because it is a plot for training set.\n",
    "</span>\n",
    "</p>"
   ]
  },
  {
   "cell_type": "code",
   "execution_count": 43,
   "metadata": {},
   "outputs": [
    {
     "data": {
      "image/png": "[encoded data removed]",
      "text/plain": [
       "<Figure size 432x288 with 1 Axes>"
      ]
     },
     "metadata": {},
     "output_type": "display_data"
    }
   ],
   "source": [
    "import numpy as np\n",
    "from sklearn.svm import SVC\n",
    "from sklearn.model_selection import learning_curve\n",
    "from sklearn.model_selection import ShuffleSplit\n",
    "\n",
    "def plot_learning_curve(estimator, title, X, y, ylim=None, cv=None,\n",
    "                        n_jobs=1, train_sizes=np.linspace(.1, 1.0, 5)):\n",
    "    plt.figure()\n",
    "    plt.title(title)\n",
    "    if ylim is not None:\n",
    "        plt.ylim(*ylim)\n",
    "    plt.xlabel(\"Training examples\")\n",
    "    plt.ylabel(\"Score\")\n",
    "    train_sizes, train_scores, test_scores = learning_curve(\n",
    "        estimator, X, y, cv=cv, n_jobs=n_jobs, train_sizes=train_sizes)\n",
    "    train_scores_mean = np.mean(train_scores, axis=1)\n",
    "    train_scores_std = np.std(train_scores, axis=1)\n",
    "    test_scores_mean = np.mean(test_scores, axis=1)\n",
    "    test_scores_std = np.std(test_scores, axis=1)\n",
    "    plt.grid()\n",
    "    \n",
    "    plt.fill_between(train_sizes, train_scores_mean - train_scores_std,\n",
    "                     train_scores_mean + train_scores_std, alpha=0.1,\n",
    "                     color=\"navy\")\n",
    "    plt.fill_between(train_sizes, test_scores_mean - test_scores_std,\n",
    "                     test_scores_mean + test_scores_std, alpha=0.1, color=\"red\")\n",
    "    plt.plot(train_sizes, train_scores_mean, 'o-', color=\"navy\",\n",
    "             label=\"Training score\")\n",
    "    plt.plot(train_sizes, test_scores_mean, 'o-', color=\"red\",\n",
    "             label=\"Cross-validation score\")\n",
    "    plt.legend(loc=\"best\")\n",
    "    return plt\n",
    "\n",
    "X, y = data_clean.iloc[:,:-1].values, data_clean.iloc[:,-1].values\n",
    "title = \"Learning Curves (Logistic Regression)\"\n",
    "# Cross validation with 100 iterations to get smoother mean test and train\n",
    "# score curves, each time with 20% data randomly selected as a validation set.\n",
    "cv = ShuffleSplit(n_splits=100, test_size=0.2, random_state=0)\n",
    "estimator = linear_model.LogisticRegression()\n",
    "plot_learning_curve(estimator, title, X, y, ylim=(0.75, 0.90), cv=cv, n_jobs=4)\n",
    "plt.show()"
   ]
  },
  {
   "cell_type": "markdown",
   "metadata": {},
   "source": [
    "## ROC Curve plot function"
   ]
  },
  {
   "cell_type": "markdown",
   "metadata": {},
   "source": [
    "<p>\n",
    "<span style=\"color:blue\">\n",
    "This is a callable ROC curve plot function. We have used this function to plot ROC Curve for all the models. We have used Seaborn package.\n",
    "</span>\n",
    "</p>"
   ]
  },
  {
   "cell_type": "code",
   "execution_count": 44,
   "metadata": {},
   "outputs": [],
   "source": [
    "import seaborn as sns\n",
    "sns.set( font_scale=1, font='Ricty',rc={\"lines.linewidth\": 2, 'grid.linestyle': '--'})\n",
    "def plotAUC(truth, pred,truth1,pred1, lab):\n",
    "    fpr, tpr, _ = metrics.roc_curve(truth,pred)\n",
    "    fpr1, tpr1, _ = metrics.roc_curve(truth1,pred1)\n",
    "    roc_auc = metrics.auc(fpr, tpr)\n",
    "    roc_auc1 = metrics.auc(fpr1,tpr1)\n",
    "    lw = 2\n",
    "    c = (np.random.rand(), np.random.rand(), np.random.rand())\n",
    "    plt.plot(fpr, tpr, color= 'darkorange',lw=lw, label= lab +'(TestAUC = %0.2f)' % roc_auc)\n",
    "    plt.plot(fpr1,tpr1, color='navy', lw=lw, linestyle='--')\n",
    "    plt.xlim([0.0, 1.0])\n",
    "    plt.ylim([0.0, 1.0])\n",
    "    plt.xlabel('False Positive Rate')\n",
    "    plt.ylabel('True Positive Rate')\n",
    "    plt.title('ROC curve') #Receiver Operating Characteristic \n",
    "    plt.legend(loc=\"lower right\")"
   ]
  },
  {
   "cell_type": "markdown",
   "metadata": {},
   "source": [
    "## Confusion Matrix Viz function"
   ]
  },
  {
   "cell_type": "markdown",
   "metadata": {},
   "source": [
    "<p>\n",
    "<span style=\"color:blue\">\n",
    "This is a callable Confusion Matrix Visualization function. We have used this function to visualize True positives, True Negatives, False Positives and False Negatives for all the models.\n",
    "</span>\n",
    "</p>"
   ]
  },
  {
   "cell_type": "code",
   "execution_count": 45,
   "metadata": {},
   "outputs": [],
   "source": [
    "import itertools\n",
    "from sklearn.metrics import confusion_matrix\n",
    "def plot_confusion_matrix(model, normalize=False): # This function prints and plots the confusion matrix.\n",
    "    cm = confusion_matrix(y_test, model, labels=[0, 1])\n",
    "    classes=[\"Will Pay\", \"Will Default\"]\n",
    "    cmap = plt.cm.Blues\n",
    "    title = \"Confusion Matrix\"\n",
    "    if normalize:\n",
    "        cm = cm.astype('float') / cm.sum(axis=1)[:, np.newaxis]\n",
    "        cm = np.around(cm, decimals=3)\n",
    "    plt.imshow(cm, interpolation='nearest', cmap=cmap)\n",
    "    plt.title(title)\n",
    "    plt.colorbar()\n",
    "    tick_marks = np.arange(len(classes))\n",
    "    plt.xticks(tick_marks, classes, rotation=45)\n",
    "    plt.yticks(tick_marks, classes)\n",
    "    thresh = cm.max() / 2.\n",
    "    for i, j in itertools.product(range(cm.shape[0]), range(cm.shape[1])):\n",
    "        plt.text(j, i, cm[i, j],\n",
    "                 horizontalalignment=\"center\",\n",
    "                 color=\"white\" if cm[i, j] > thresh else \"black\")\n",
    "    plt.tight_layout()\n",
    "    plt.ylabel('True label')\n",
    "    plt.xlabel('Predicted label')"
   ]
  },
  {
   "cell_type": "code",
   "execution_count": 46,
   "metadata": {},
   "outputs": [],
   "source": [
    "X_train, X_test, y_train, y_test = train_test_split(data_clean.iloc[:,:-1], data_clean.iloc[:,-1], test_size=0.2, random_state=42)\n",
    "bs_train, bs_test = train_test_split(data_clean, test_size = 0.2, random_state=42) #just for bootstrapping"
   ]
  },
  {
   "cell_type": "markdown",
   "metadata": {},
   "source": [
    "###  Feature Selection using RFE (Recursive Feature Elimination) "
   ]
  },
  {
   "cell_type": "code",
   "execution_count": 47,
   "metadata": {},
   "outputs": [
    {
     "name": "stdout",
     "output_type": "stream",
     "text": [
      "[ True  True  True  True  True  True]\n",
      "[1 1 1 1 1 1]\n"
     ]
    }
   ],
   "source": [
    "from sklearn.feature_selection import RFE\n",
    "# create the RFE model and select 3 attributes\n",
    "clf_LR = linear_model.LogisticRegression(C=1e30)\n",
    "clf_LR.fit(X_train,y_train)\n",
    "rfe = RFE(clf_LR, 10)\n",
    "rfe = rfe.fit(data_clean.iloc[:,:-1].values, data_clean.iloc[:,-1].values)\n",
    "# From above line of code, i have taken data_clean.iloc[:,:-1] intsead of taking in it X.. and data_clean.iloc[:,-1] instead of taking in it y.. values\n",
    "# summarize the selection of the attributes\n",
    "print(rfe.support_) #Shows True or false\n",
    "print(rfe.ranking_) # If true prints 1 and if false prints 0"
   ]
  },
  {
   "cell_type": "code",
   "execution_count": 48,
   "metadata": {},
   "outputs": [
    {
     "name": "stdout",
     "output_type": "stream",
     "text": [
      "Expected Variance is [0.28904163 0.19910805 0.16791589 0.16114447 0.10551517 0.07727479]\n"
     ]
    }
   ],
   "source": [
    "#PCA (Principal Component Analysis)\n",
    "from sklearn.decomposition import PCA \n",
    "pca = PCA(n_components=6, whiten=True) # We have taken our train 6 features as components in the PCA\n",
    "X_train_pca = pca.fit_transform(X_train)\n",
    "X_test_pca = pca.transform(X_test)\n",
    "explained_variance = pca.explained_variance_ratio_\n",
    "print('Expected Variance is '+ str(explained_variance))"
   ]
  },
  {
   "cell_type": "code",
   "execution_count": 49,
   "metadata": {},
   "outputs": [
    {
     "name": "stdout",
     "output_type": "stream",
     "text": [
      "(16000, 6)\n",
      "(20000, 7)\n"
     ]
    }
   ],
   "source": [
    "features = [\"funded_amnt\", \"annual_inc\", \"last_pymnt_amnt\", \"pub_rec\", \"int_rate\", \"open_acc\",\n",
    "            \"loan_status\"]\n",
    "X_train, X_test = X_train[features[:-1]], X_test[features[:-1]]\n",
    "data_clean = data_clean[features]\n",
    "print(X_train.shape)\n",
    "print(data_clean.shape)"
   ]
  },
  {
   "cell_type": "code",
   "execution_count": 50,
   "metadata": {},
   "outputs": [
    {
     "data": {
      "text/html": [
       "<div>\n",
       "<style scoped>\n",
       "    .dataframe tbody tr th:only-of-type {\n",
       "        vertical-align: middle;\n",
       "    }\n",
       "\n",
       "    .dataframe tbody tr th {\n",
       "        vertical-align: top;\n",
       "    }\n",
       "\n",
       "    .dataframe thead th {\n",
       "        text-align: right;\n",
       "    }\n",
       "</style>\n",
       "<table border=\"1\" class=\"dataframe\">\n",
       "  <thead>\n",
       "    <tr style=\"text-align: right;\">\n",
       "      <th></th>\n",
       "      <th>funded_amnt</th>\n",
       "      <th>annual_inc</th>\n",
       "      <th>last_pymnt_amnt</th>\n",
       "      <th>pub_rec</th>\n",
       "      <th>int_rate</th>\n",
       "      <th>open_acc</th>\n",
       "      <th>loan_status</th>\n",
       "    </tr>\n",
       "  </thead>\n",
       "  <tbody>\n",
       "    <tr>\n",
       "      <th>funded_amnt</th>\n",
       "      <td>1.000000</td>\n",
       "      <td>0.426768</td>\n",
       "      <td>0.322650</td>\n",
       "      <td>-0.081693</td>\n",
       "      <td>0.183286</td>\n",
       "      <td>0.201675</td>\n",
       "      <td>0.067231</td>\n",
       "    </tr>\n",
       "    <tr>\n",
       "      <th>annual_inc</th>\n",
       "      <td>0.426768</td>\n",
       "      <td>1.000000</td>\n",
       "      <td>0.201161</td>\n",
       "      <td>-0.004452</td>\n",
       "      <td>-0.055421</td>\n",
       "      <td>0.173040</td>\n",
       "      <td>-0.083378</td>\n",
       "    </tr>\n",
       "    <tr>\n",
       "      <th>last_pymnt_amnt</th>\n",
       "      <td>0.322650</td>\n",
       "      <td>0.201161</td>\n",
       "      <td>1.000000</td>\n",
       "      <td>-0.031413</td>\n",
       "      <td>-0.012365</td>\n",
       "      <td>0.061421</td>\n",
       "      <td>-0.467207</td>\n",
       "    </tr>\n",
       "    <tr>\n",
       "      <th>pub_rec</th>\n",
       "      <td>-0.081693</td>\n",
       "      <td>-0.004452</td>\n",
       "      <td>-0.031413</td>\n",
       "      <td>1.000000</td>\n",
       "      <td>0.048396</td>\n",
       "      <td>-0.025659</td>\n",
       "      <td>0.020336</td>\n",
       "    </tr>\n",
       "    <tr>\n",
       "      <th>int_rate</th>\n",
       "      <td>0.183286</td>\n",
       "      <td>-0.055421</td>\n",
       "      <td>-0.012365</td>\n",
       "      <td>0.048396</td>\n",
       "      <td>1.000000</td>\n",
       "      <td>-0.002985</td>\n",
       "      <td>0.298659</td>\n",
       "    </tr>\n",
       "    <tr>\n",
       "      <th>open_acc</th>\n",
       "      <td>0.201675</td>\n",
       "      <td>0.173040</td>\n",
       "      <td>0.061421</td>\n",
       "      <td>-0.025659</td>\n",
       "      <td>-0.002985</td>\n",
       "      <td>1.000000</td>\n",
       "      <td>0.031179</td>\n",
       "    </tr>\n",
       "    <tr>\n",
       "      <th>loan_status</th>\n",
       "      <td>0.067231</td>\n",
       "      <td>-0.083378</td>\n",
       "      <td>-0.467207</td>\n",
       "      <td>0.020336</td>\n",
       "      <td>0.298659</td>\n",
       "      <td>0.031179</td>\n",
       "      <td>1.000000</td>\n",
       "    </tr>\n",
       "  </tbody>\n",
       "</table>\n",
       "</div>"
      ],
      "text/plain": [
       "                 funded_amnt  annual_inc  last_pymnt_amnt   pub_rec  int_rate  \\\n",
       "funded_amnt         1.000000    0.426768         0.322650 -0.081693  0.183286   \n",
       "annual_inc          0.426768    1.000000         0.201161 -0.004452 -0.055421   \n",
       "last_pymnt_amnt     0.322650    0.201161         1.000000 -0.031413 -0.012365   \n",
       "pub_rec            -0.081693   -0.004452        -0.031413  1.000000  0.048396   \n",
       "int_rate            0.183286   -0.055421        -0.012365  0.048396  1.000000   \n",
       "open_acc            0.201675    0.173040         0.061421 -0.025659 -0.002985   \n",
       "loan_status         0.067231   -0.083378        -0.467207  0.020336  0.298659   \n",
       "\n",
       "                 open_acc  loan_status  \n",
       "funded_amnt      0.201675     0.067231  \n",
       "annual_inc       0.173040    -0.083378  \n",
       "last_pymnt_amnt  0.061421    -0.467207  \n",
       "pub_rec         -0.025659     0.020336  \n",
       "int_rate        -0.002985     0.298659  \n",
       "open_acc         1.000000     0.031179  \n",
       "loan_status      0.031179     1.000000  "
      ]
     },
     "execution_count": 50,
     "metadata": {},
     "output_type": "execute_result"
    }
   ],
   "source": [
    "dataViz = data_clean\n",
    "corr = dataViz.corr()\n",
    "corr"
   ]
  },
  {
   "cell_type": "code",
   "execution_count": 51,
   "metadata": {
    "scrolled": false
   },
   "outputs": [
    {
     "data": {
      "text/plain": [
       "<matplotlib.axes._subplots.AxesSubplot at 0xf2b7978>"
      ]
     },
     "execution_count": 51,
     "metadata": {},
     "output_type": "execute_result"
    },
    {
     "data": {
      "image/png": "[encoded data removed]",
      "text/plain": [
       "<Figure size 720x720 with 2 Axes>"
      ]
     },
     "metadata": {},
     "output_type": "display_data"
    }
   ],
   "source": [
    "import warnings\n",
    "warnings.filterwarnings('ignore')\n",
    "#dataViz = data_clean\n",
    "sns.set_context(context='notebook')\n",
    "fig, ax = plt.subplots(figsize=(10,10)) \n",
    "#corr = dataViz.corr()\n",
    "\n",
    "# Generate a mask for the upper triangle\n",
    "mask = np.zeros_like(corr, dtype=np.bool)\n",
    "mask[np.tril_indices_from(mask)] = True\n",
    "\n",
    "# Generate a custom diverging colormap\n",
    "cmap = sns.diverging_palette(220, 10, as_cmap=True)\n",
    "\n",
    "sns.heatmap(corr, cmap=cmap,linewidths=1, vmin=-1, vmax=1, square=True, cbar=True, center=0, ax=ax, mask=mask)"
   ]
  },
  {
   "cell_type": "markdown",
   "metadata": {},
   "source": [
    "# Models\n"
   ]
  },
  {
   "cell_type": "markdown",
   "metadata": {},
   "source": [
    "## Random Forest with randomized Search"
   ]
  },
  {
   "cell_type": "markdown",
   "metadata": {},
   "source": [
    "<p>\n",
    "<span style=\"color:blue\">\n",
    "Random forest when implemented with randomized search we got the best accuracies and minimum false negatives(predicting borowwer will not default eventhough he will. This might impact on the credibility of the company). We used the randomized search to find the best hyper paramters for the model.\n",
    "</span>\n",
    "</p>"
   ]
  },
  {
   "cell_type": "code",
   "execution_count": 52,
   "metadata": {},
   "outputs": [
    {
     "name": "stdout",
     "output_type": "stream",
     "text": [
      "Best Accuracy = 0.8863446234065517\n",
      "RandomForestClassifier(bootstrap=True, class_weight=None, criterion='gini',\n",
      "            max_depth=None, max_features=4, max_leaf_nodes=None,\n",
      "            min_impurity_decrease=0.0, min_impurity_split=None,\n",
      "            min_samples_leaf=1, min_samples_split=2,\n",
      "            min_weight_fraction_leaf=0.0, n_estimators=10, n_jobs=1,\n",
      "            oob_score=False, random_state=0, verbose=0, warm_start=False)\n"
     ]
    }
   ],
   "source": [
    "from sklearn.grid_search import RandomizedSearchCV\n",
    "rf = RandomForestClassifier(criterion='gini', random_state=0)\n",
    "maxFeatures = range(1,data_clean.shape[1]-1)\n",
    "param_dist = dict(max_features=maxFeatures)\n",
    "rand = RandomizedSearchCV(rf, param_dist, cv=3, scoring='roc_auc', n_iter=len(maxFeatures), random_state=10) ##\n",
    "X=data_clean.iloc[:,:-1].values\n",
    "y=data_clean.iloc[:,-1].values\n",
    "rand.fit(X,y)\n",
    "mean_scores = [result.mean_validation_score for result in rand.grid_scores_]\n",
    "print('Best Accuracy = '+str(rand.best_score_))\n",
    "print(rand.best_estimator_)"
   ]
  },
  {
   "cell_type": "code",
   "execution_count": 53,
   "metadata": {},
   "outputs": [
    {
     "name": "stdout",
     "output_type": "stream",
     "text": [
      "0.8075\n",
      "0.8078842739616414\n"
     ]
    }
   ],
   "source": [
    "randomForest = RandomForestClassifier(bootstrap=True,criterion = \"gini\",max_features=rand.best_estimator_.max_features,random_state=0 )\n",
    "randomForest.fit(X_train,y_train)\n",
    "rfPredict = randomForest.predict(X_test)\n",
    "rfPredict_train = randomForest.predict(X_train)\n",
    "rfPredictproba = randomForest.predict_proba(X_test)[:,1] #for ROC curve\n",
    "rfPredictproba_train = randomForest.predict_proba(X_train)[:,1] #for ROC curve\n",
    "rfAccuracy = accuracy_score(y_test,rfPredict)\n",
    "roc_score = metrics.roc_auc_score(y_test,rfPredict)\n",
    "print(rfAccuracy)\n",
    "print(roc_score)"
   ]
  },
  {
   "cell_type": "markdown",
   "metadata": {},
   "source": [
    "## Feature Importance"
   ]
  },
  {
   "cell_type": "code",
   "execution_count": 54,
   "metadata": {},
   "outputs": [
    {
     "data": {
      "text/plain": [
       "Text(0,0.5,'Normalized Gini Importance')"
      ]
     },
     "execution_count": 54,
     "metadata": {},
     "output_type": "execute_result"
    },
    {
     "data": {
      "image/png": "[encoded data removed]",
      "text/plain": [
       "<Figure size 432x288 with 1 Axes>"
      ]
     },
     "metadata": {},
     "output_type": "display_data"
    }
   ],
   "source": [
    "fig, ax = plt.subplots()\n",
    "width=0.35\n",
    "ax.bar(np.arange(len(features)-1), randomForest.feature_importances_, width, color='blue')\n",
    "ax.set_xticks(np.arange(len(randomForest.feature_importances_)))\n",
    "ax.set_xticklabels(X_train.columns.values,rotation=90)\n",
    "plt.title('Feature Importance from DT')\n",
    "ax.set_ylabel('Normalized Gini Importance')"
   ]
  },
  {
   "cell_type": "code",
   "execution_count": 55,
   "metadata": {},
   "outputs": [
    {
     "data": {
      "image/png": "[encoded data removed]",
      "text/plain": [
       "<Figure size 432x288 with 1 Axes>"
      ]
     },
     "metadata": {},
     "output_type": "display_data"
    },
    {
     "data": {
      "image/png": "[encoded data removed]",
      "text/plain": [
       "<Figure size 432x432 with 2 Axes>"
      ]
     },
     "metadata": {},
     "output_type": "display_data"
    }
   ],
   "source": [
    "plotAUC(y_test,rfPredictproba,y_train,rfPredictproba_train, 'Random Forest')\n",
    "plt.show()\n",
    "plt.figure(figsize=(6,6))\n",
    "plot_confusion_matrix(rfPredict, normalize=True)\n",
    "plt.show()"
   ]
  },
  {
   "cell_type": "markdown",
   "metadata": {},
   "source": [
    "## Logistic Regression with Grid Search\n"
   ]
  },
  {
   "cell_type": "markdown",
   "metadata": {},
   "source": [
    "<p>\n",
    "<span style=\"color:blue\">\n",
    "When we implemented Logistic Regression with grid search we got the best accuracies and minimum false negatives.Then, We used the randomized search to find the best hyper paramters for the model.\n",
    "</span>\n",
    "</p>"
   ]
  },
  {
   "cell_type": "code",
   "execution_count": 56,
   "metadata": {},
   "outputs": [
    {
     "name": "stdout",
     "output_type": "stream",
     "text": [
      "Best accuracy is 0.886243\n",
      "LogisticRegression(C=10, class_weight=None, dual=False, fit_intercept=True,\n",
      "          intercept_scaling=1, max_iter=100, multi_class='ovr', n_jobs=1,\n",
      "          penalty='l2', random_state=0, solver='liblinear', tol=0.0001,\n",
      "          verbose=0, warm_start=False)\n"
     ]
    }
   ],
   "source": [
    "from sklearn.model_selection import GridSearchCV\n",
    "def cross_validation_best_parameters(model, param_grid):\n",
    "    grid = GridSearchCV(model, param_grid,cv=5, scoring='roc_auc')\n",
    "    X=data_clean.iloc[:,:-1].values\n",
    "    y=data_clean.iloc[:,-1].values\n",
    "    grid.fit(X,y)\n",
    "    mean_scores = [result.mean_validation_score for result in grid.grid_scores_]\n",
    "    return mean_scores,grid.best_score_,grid.best_estimator_\n",
    "logreg = linear_model.LogisticRegression(random_state=0)\n",
    "c=[0.001, 0.01, 0.1, 1, 10, 100, 1000]\n",
    "param_grid = dict(C=c)\n",
    "mean_scores,Best_Accuracy, Best_classifier = cross_validation_best_parameters(logreg,param_grid)\n",
    "print(\"Best accuracy is \"+ str(Best_Accuracy))\n",
    "print(Best_classifier)"
   ]
  },
  {
   "cell_type": "code",
   "execution_count": 57,
   "metadata": {},
   "outputs": [
    {
     "name": "stdout",
     "output_type": "stream",
     "text": [
      "Logistic regression accuracy is  0.814 ------Logistic regression AUC score is 0.815743542297017\n"
     ]
    },
    {
     "data": {
      "image/png": "[encoded data removed]",
      "text/plain": [
       "<Figure size 432x288 with 1 Axes>"
      ]
     },
     "metadata": {},
     "output_type": "display_data"
    },
    {
     "data": {
      "image/png": "[encoded data removed]",
      "text/plain": [
       "<Figure size 432x432 with 2 Axes>"
      ]
     },
     "metadata": {},
     "output_type": "display_data"
    }
   ],
   "source": [
    "clf_LR = linear_model.LogisticRegression(C=Best_classifier.C)\n",
    "clf_LR.fit(X_train,y_train)\n",
    "LR_Predict = clf_LR.predict_proba(X_test)[:,1]\n",
    "LR_Predict_train = clf_LR.predict_proba(X_train)[:,1]\n",
    "LR_Predict_bin = clf_LR.predict(X_test)\n",
    "LR_Accuracy = accuracy_score(y_test,LR_Predict.round())\n",
    "LR_roc=metrics.roc_auc_score(y_test,LR_Predict.round())\n",
    "print(\"Logistic regression accuracy is \",LR_Accuracy,\"------Logistic regression AUC score is\",LR_roc)\n",
    "#plotAUC(y_test,rfPredictproba,y_train,rfPredictproba_train, 'Random Forest')\n",
    "plotAUC(y_test,LR_Predict,y_train,LR_Predict_train,'Logistic Regression')\n",
    "plt.show()\n",
    "plt.figure(figsize=(6,6))\n",
    "plot_confusion_matrix(LR_Predict_bin, normalize=True)\n",
    "plt.show()"
   ]
  },
  {
   "cell_type": "markdown",
   "metadata": {},
   "source": [
    "## Support Vector Machines(SVM) with Grid Search CV"
   ]
  },
  {
   "cell_type": "markdown",
   "metadata": {},
   "source": [
    "<p>\n",
    "<span style=\"color:blue\">\n",
    "SVM (Support Vector Machines) when implemented with grid search, we got the best accuracies and minimum false negatives. We used the Grid search to find the best hyper paramters for the model.<br> Later we used this value to find the predictions and plot the ROC curve.\n",
    "</span>\n",
    "</p>"
   ]
  },
  {
   "cell_type": "code",
   "execution_count": 58,
   "metadata": {},
   "outputs": [
    {
     "name": "stdout",
     "output_type": "stream",
     "text": [
      "{'C': 1}\n",
      "---------------\n",
      "SVC(C=1, cache_size=200, class_weight=None, coef0=0.0,\n",
      "  decision_function_shape='ovr', degree=3, gamma='auto', kernel='rbf',\n",
      "  max_iter=-1, probability=False, random_state=None, shrinking=True,\n",
      "  tol=0.001, verbose=False)\n"
     ]
    }
   ],
   "source": [
    "from sklearn.grid_search import GridSearchCV    ## takes too much time to run this cell.\n",
    "clf_svm = svm.SVC(kernel = \"rbf\")\n",
    "powers = range(0,5)\n",
    "cs = [10**i for i in powers]\n",
    "param_grid = dict(C=cs)\n",
    "grid = GridSearchCV(clf_svm, param_grid, cv=5, scoring='roc_auc')\n",
    "grid.fit(X_train,y_train)\n",
    "grid_mean_scores = [result.mean_validation_score for result in grid.grid_scores_]# create a list of the mean scores only\n",
    "print(grid.best_params_)\n",
    "print(\"---------------\")\n",
    "print(grid.best_estimator_)"
   ]
  },
  {
   "cell_type": "code",
   "execution_count": 59,
   "metadata": {
    "scrolled": false
   },
   "outputs": [
    {
     "name": "stdout",
     "output_type": "stream",
     "text": [
      "SVM accuracy is  0.807 SVM AUC Score 0.8090120277062338\n"
     ]
    },
    {
     "data": {
      "image/png": "[encoded data removed]",
      "text/plain": [
       "<Figure size 432x288 with 1 Axes>"
      ]
     },
     "metadata": {},
     "output_type": "display_data"
    },
    {
     "data": {
      "image/png": "[encoded data removed]",
      "text/plain": [
       "<Figure size 432x432 with 2 Axes>"
      ]
     },
     "metadata": {},
     "output_type": "display_data"
    }
   ],
   "source": [
    "clf = svm.SVC(kernel = \"rbf\", C=grid.best_estimator_.C)\n",
    "clf.fit(X_train,y_train)\n",
    "predictions_svm = clf.predict(X_test)\n",
    "predictproba_svm = clf.decision_function(X_test)\n",
    "predictproba_svm_train = clf.decision_function(X_train)\n",
    "SVM_Accuracy = accuracy_score(y_test,predictions_svm)\n",
    "SVM_roc=metrics.roc_auc_score(y_test,predictions_svm)\n",
    "print(\"SVM accuracy is \",SVM_Accuracy, \"SVM AUC Score\" , SVM_roc)\n",
    "plotAUC(y_test,predictproba_svm,y_train,predictproba_svm_train,'SVM')\n",
    "#plotAUC(y_test,rfPredictproba, 'Random Forest')\n",
    "#plotAUC(y_test,LR_Predict,'Logistic Regression')\n",
    "plt.show()\n",
    "plt.figure(figsize=(6,6))\n",
    "plot_confusion_matrix(predictions_svm, normalize=True)\n",
    "plt.show()"
   ]
  },
  {
   "cell_type": "markdown",
   "metadata": {},
   "source": [
    "## K Nearest Neighbors(KNN) with Grid Search CV"
   ]
  },
  {
   "cell_type": "markdown",
   "metadata": {},
   "source": [
    "<p>\n",
    "<span style=\"color:blue\">\n",
    "KNN (K Nearest Neighbors) when implemented with grid search, we got the best accuracies and minimum false negatives. \n",
    "We used the Grid search to find the best hyper paramters for the model.Later we used this value to find the predictions and plot the ROC curve.\n",
    "</span>\n",
    "</p>"
   ]
  },
  {
   "cell_type": "code",
   "execution_count": 60,
   "metadata": {},
   "outputs": [
    {
     "name": "stdout",
     "output_type": "stream",
     "text": [
      "{'n_neighbors': 40}\n",
      "---------------\n",
      "KNeighborsClassifier(algorithm='auto', leaf_size=30, metric='minkowski',\n",
      "           metric_params=None, n_jobs=1, n_neighbors=40, p=2,\n",
      "           weights='uniform')\n"
     ]
    }
   ],
   "source": [
    "#KNN_Acc = knnfunc(2,10) - 74.8 max, 75.7 for 15, 25 - 76.2, 30 - 76.1\n",
    "from sklearn.grid_search import GridSearchCV    ## takes too much time to run this cell.\n",
    "clf_knn = KNeighborsClassifier()\n",
    "k_range = list(range(35, 50))\n",
    "param_grid = dict(n_neighbors=k_range)\n",
    "grid = GridSearchCV(clf_knn, param_grid, cv=5, scoring='roc_auc')\n",
    "grid.fit(X_train,y_train)\n",
    "grid_mean_scores = [result.mean_validation_score for result in grid.grid_scores_]# create a list of the mean scores only\n",
    "print(grid.best_params_)\n",
    "print(\"---------------\")\n",
    "print(grid.best_estimator_)"
   ]
  },
  {
   "cell_type": "code",
   "execution_count": 61,
   "metadata": {
    "scrolled": false
   },
   "outputs": [
    {
     "name": "stdout",
     "output_type": "stream",
     "text": [
      "Optimal N-neighbor 40\n",
      "KNN accuracy is  0.77375 --- KNN AUC score is 0.7754057162861644\n"
     ]
    },
    {
     "data": {
      "image/png": "[encoded data removed]",
      "text/plain": [
       "<Figure size 432x288 with 1 Axes>"
      ]
     },
     "metadata": {},
     "output_type": "display_data"
    },
    {
     "data": {
      "image/png": "[encoded data removed]",
      "text/plain": [
       "<Figure size 432x432 with 2 Axes>"
      ]
     },
     "metadata": {},
     "output_type": "display_data"
    }
   ],
   "source": [
    "print(\"Optimal N-neighbor\",grid.best_params_['n_neighbors'])\n",
    "clf_knn_final = KNeighborsClassifier(n_neighbors=grid.best_params_['n_neighbors'])   #taking the the best from the above cell and using it to find predictions\n",
    "clf_knn_final.fit(X_train,y_train)\n",
    "knn_pred = clf_knn_final.predict(X_test)\n",
    "knn_predictproba = clf_knn_final.predict_proba(X_test)[:,1]\n",
    "knn_predictproba_train = clf_knn_final.predict_proba(X_train)[:,1]\n",
    "KNN_Acc = accuracy_score(y_test,knn_pred)\n",
    "KNN_roc=metrics.roc_auc_score(y_test,knn_pred)\n",
    "print(\"KNN accuracy is \",KNN_Acc,\"--- KNN AUC score is\",KNN_roc)\n",
    "#plotAUC(y_test,rfPredictproba, 'Random Forest')\n",
    "#plotAUC(y_test,LR_Predict,'Logistic Regression')\n",
    "#plotAUC(y_test,predictproba_svm, 'SVM')\n",
    "plotAUC(y_test,knn_predictproba,y_train,knn_predictproba_train,'K Nearest Neighbors')\n",
    "plt.show()\n",
    "plt.figure(figsize=(6,6))\n",
    "plot_confusion_matrix(knn_pred, normalize=True)\n",
    "plt.show()"
   ]
  },
  {
   "cell_type": "markdown",
   "metadata": {},
   "source": [
    "## Bagging for Classification"
   ]
  },
  {
   "cell_type": "markdown",
   "metadata": {},
   "source": [
    "<p>\n",
    "<span style=\"color:blue\">\n",
    "We have tried following ensemble algorithms to check if they can give better results. <br>\n",
    "Bagging : <br>\n",
    "> Create many random sub-samples of our dataset with replacement. <br>\n",
    "> Train a CART(Classfication and Regression Trees) model on each sample.   <br>\n",
    "> Given a new dataset, calculate the average prediction from each model <br>\n",
    "</span>\n",
    "</p>  "
   ]
  },
  {
   "cell_type": "code",
   "execution_count": 62,
   "metadata": {},
   "outputs": [
    {
     "name": "stdout",
     "output_type": "stream",
     "text": [
      "0.8255500000000001\n"
     ]
    }
   ],
   "source": [
    "from sklearn import model_selection\n",
    "from sklearn.ensemble import BaggingClassifier\n",
    "seed = 7\n",
    "kfold = model_selection.KFold(n_splits=10, random_state=seed)\n",
    "num_trees = 100\n",
    "model = BaggingClassifier(base_estimator=randomForest, n_estimators=num_trees, random_state=seed)\n",
    "results = model_selection.cross_val_score(model, X,y, cv=kfold)\n",
    "print(results.mean())"
   ]
  },
  {
   "cell_type": "code",
   "execution_count": 63,
   "metadata": {},
   "outputs": [
    {
     "name": "stdout",
     "output_type": "stream",
     "text": [
      "0.8170999999999999\n"
     ]
    }
   ],
   "source": [
    "from sklearn import model_selection\n",
    "from sklearn.ensemble import BaggingClassifier\n",
    "seed = 7\n",
    "kfold = model_selection.KFold(n_splits=10, random_state=seed)\n",
    "#num_trees = 100\n",
    "model = BaggingClassifier(base_estimator=clf_LR, random_state=seed)\n",
    "results = model_selection.cross_val_score(model, X,y, cv=kfold)\n",
    "print(results.mean())"
   ]
  },
  {
   "cell_type": "markdown",
   "metadata": {},
   "source": [
    "## Ada Boost classifier"
   ]
  },
  {
   "cell_type": "markdown",
   "metadata": {},
   "source": [
    "<p>\n",
    "<span style=\"color:blue\">\n",
    "Ada Boost is one of the most commonly used ensemble algorithms. <br>\n",
    "It works by weighting instances in the dataset by how easy or difficult they are to classify, allowing the algorithm to pay or less attention to them in the construction of subsequent models. <br>\n",
    "</span>\n",
    "</p>  "
   ]
  },
  {
   "cell_type": "code",
   "execution_count": 64,
   "metadata": {},
   "outputs": [
    {
     "data": {
      "text/plain": [
       "0.8197501963753665"
      ]
     },
     "execution_count": 64,
     "metadata": {},
     "output_type": "execute_result"
    }
   ],
   "source": [
    "from sklearn.model_selection import cross_val_score\n",
    "from sklearn.datasets import load_iris\n",
    "from sklearn.ensemble import AdaBoostClassifier\n",
    "Ada_clf = AdaBoostClassifier(n_estimators=50)\n",
    "scores = cross_val_score(Ada_clf,X,y)\n",
    "scores.mean()"
   ]
  },
  {
   "cell_type": "markdown",
   "metadata": {},
   "source": [
    "## Multi-Layer Perceptron Classifier"
   ]
  },
  {
   "cell_type": "markdown",
   "metadata": {},
   "source": [
    "<p>\n",
    "<span style=\"color:blue\">\n",
    "A multilayer perceptron (MLP) is a feedforward artificial neural network. An MLP consists of atleast three layers of nodes. MLP utilizes a supervised learning technique called backpropagation for training.Its multiple layers and non-linear activation distinguish MLP from a linear perceptron. It can distinguish data that is not linearly separable. We got our highest accuracy for MLP classifier(little higher than Logistic Regression with Grid Search CV).\n",
    "</span>\n",
    "</p>"
   ]
  },
  {
   "cell_type": "code",
   "execution_count": 65,
   "metadata": {},
   "outputs": [
    {
     "name": "stdout",
     "output_type": "stream",
     "text": [
      "Accuracy score is 0.818\n",
      "Roc_AUC score is 0.8194968867995298\n"
     ]
    },
    {
     "data": {
      "image/png": "[encoded data removed]",
      "text/plain": [
       "<Figure size 432x288 with 1 Axes>"
      ]
     },
     "metadata": {},
     "output_type": "display_data"
    },
    {
     "data": {
      "image/png": "[encoded data removed]",
      "text/plain": [
       "<Figure size 432x432 with 2 Axes>"
      ]
     },
     "metadata": {},
     "output_type": "display_data"
    }
   ],
   "source": [
    "from sklearn.neural_network import MLPClassifier\n",
    "clf_NN = MLPClassifier(solver='lbfgs', alpha=1e-5,hidden_layer_sizes=(5, 2), random_state=1)\n",
    "clf_NN.fit(X_train,y_train)     \n",
    "predict_NN = clf_NN.predict(X_test)\n",
    "predictproba_NN = clf_NN.predict_proba(X_test)[:,1]\n",
    "predictproba_NN_train = clf_NN.predict_proba(X_train)[:,1]\n",
    "NNAccuracy = accuracy_score(y_test,predict_NN)\n",
    "NN_roc=metrics.roc_auc_score(y_test,predict_NN)\n",
    "print('Accuracy score is',NNAccuracy)\n",
    "print('Roc_AUC score is',NN_roc)\n",
    "#plotAUC(y_test,rfPredictproba, 'Random Forest')\n",
    "#plotAUC(y_test,LR_Predict,'Logistic Regression')\n",
    "#plotAUC(y_test,predictproba_svm, 'SVM')\n",
    "#plotAUC(y_test,knn_predictproba,'K Nearest Neighbors')\n",
    "plotAUC(y_test,predictproba_NN,y_train,predictproba_NN_train,'MLP')\n",
    "plt.show()\n",
    "plt.figure(figsize=(6,6))\n",
    "plot_confusion_matrix(predict_NN, normalize=True)\n",
    "plt.show()"
   ]
  },
  {
   "cell_type": "markdown",
   "metadata": {},
   "source": [
    "## Precision,recall,F1score for all models"
   ]
  },
  {
   "cell_type": "code",
   "execution_count": 66,
   "metadata": {
    "scrolled": false
   },
   "outputs": [
    {
     "name": "stdout",
     "output_type": "stream",
     "text": [
      "RF              precision    recall  f1-score   support\n",
      "\n",
      "          0       0.83      0.78      0.80      2030\n",
      "          1       0.79      0.83      0.81      1970\n",
      "\n",
      "avg / total       0.81      0.81      0.81      4000\n",
      "\n",
      "SVM              precision    recall  f1-score   support\n",
      "\n",
      "          0       0.92      0.67      0.78      2030\n",
      "          1       0.74      0.94      0.83      1970\n",
      "\n",
      "avg / total       0.83      0.81      0.80      4000\n",
      "\n",
      "LR              precision    recall  f1-score   support\n",
      "\n",
      "          0       0.91      0.70      0.79      2030\n",
      "          1       0.75      0.93      0.83      1970\n",
      "\n",
      "avg / total       0.83      0.81      0.81      4000\n",
      "\n",
      "KNN              precision    recall  f1-score   support\n",
      "\n",
      "          0       0.86      0.67      0.75      2030\n",
      "          1       0.72      0.89      0.79      1970\n",
      "\n",
      "avg / total       0.79      0.77      0.77      4000\n",
      "\n",
      "MLP              precision    recall  f1-score   support\n",
      "\n",
      "          0       0.90      0.72      0.80      2030\n",
      "          1       0.76      0.92      0.83      1970\n",
      "\n",
      "avg / total       0.83      0.82      0.82      4000\n",
      "\n"
     ]
    }
   ],
   "source": [
    "from sklearn.metrics import classification_report\n",
    "print(\"RF\",classification_report(y_test, rfPredict, target_names=None))\n",
    "print(\"SVM\",classification_report(y_test, predictions_svm, target_names=None))\n",
    "print(\"LR\",classification_report(y_test, LR_Predict_bin, target_names=None))\n",
    "print(\"KNN\",classification_report(y_test, knn_pred, target_names=None))\n",
    "print(\"MLP\",classification_report(y_test, predict_NN, target_names=None))"
   ]
  },
  {
   "cell_type": "markdown",
   "metadata": {},
   "source": [
    "## Behaviour of models with different sample sizes of dataset"
   ]
  },
  {
   "cell_type": "markdown",
   "metadata": {},
   "source": [
    "<p>\n",
    "<span style=\"color:blue\">\n",
    "Here we have plotted ROC_AUC_Score for different sample sizes.\n",
    "</span>\n",
    "</p>"
   ]
  },
  {
   "cell_type": "code",
   "execution_count": 73,
   "metadata": {},
   "outputs": [],
   "source": [
    "def modBootstrapper(train, test, nruns, sampsize, model, c):\n",
    "    target = 'loan_status'\n",
    "    aucs_boot = []\n",
    "    for i in range(nruns):\n",
    "        train_samp = train.iloc[np.random.randint(0, len(train), size = sampsize)] #selecting random indexes for KFold\n",
    "        if (model == \"LR\"):\n",
    "            lr_i = linear_model.LogisticRegression(C = 1e30)\n",
    "            lr_i.fit(train_samp.drop(target,1), train_samp[target]) #Logistic regression\n",
    "            p = lr_i.predict_proba(test.drop(target,1))[:,1]\n",
    "        elif (model == \"SVM\"):\n",
    "            svm_i = svm.SVC(kernel='rbf', C = c) \n",
    "            svm_i.fit(train_samp.drop(target,1), train_samp[target])#SVM fitting and predicting if lr==0\n",
    "            p = svm_i.decision_function(test.drop(target,1))\n",
    "        elif (model == \"RF\"):\n",
    "            RF_i = RandomForestClassifier(bootstrap=True,criterion = \"gini\")\n",
    "            RF_i.fit(train_samp.drop(target,1), train_samp[target])\n",
    "            p = RF_i.predict_proba(X_test)[:,1]\n",
    "        elif (model == \"KNN\"):\n",
    "            knn_i = KNeighborsClassifier(n_neighbors= 30) #taking the the best from the above cell and using it to find predictions\n",
    "            knn_i.fit(train_samp.drop(target,1), train_samp[target])\n",
    "            p = knn_i.predict_proba(X_test)[:,1]\n",
    "            \n",
    "        aucs_boot.append(metrics.roc_auc_score(test[target], p)) #calculating auc scores for each bag in bootstrapping\n",
    "    \n",
    "    return [np.mean(aucs_boot), np.sqrt(np.var(aucs_boot))] #mean, standard error = square root of variance"
   ]
  },
  {
   "cell_type": "code",
   "execution_count": 74,
   "metadata": {
    "scrolled": true
   },
   "outputs": [
    {
     "name": "stdout",
     "output_type": "stream",
     "text": [
      "250\n",
      "1000\n",
      "1500\n",
      "2000\n",
      "2750\n",
      "3750\n",
      "4500\n",
      "5200\n",
      "6500\n",
      "7000\n",
      "8000\n",
      "8500\n",
      "9000\n",
      "10000\n",
      "11000\n",
      "12000\n",
      "15000\n",
      "18000\n",
      "20000\n"
     ]
    }
   ],
   "source": [
    "bs_train, bs_test = train_test_split(data_clean, test_size = 0.2, random_state=42) #just for bootstrapping\n",
    "SampleSizes = [250,1000,1500,2000,2750,3750,4500,5200,6500,7000,8000,8500,9000,10000,11000,12000,15000,18000,20000] #various samples of Dataset\n",
    "LR_means = []\n",
    "Lr_stderr = []\n",
    "svm_means = []\n",
    "svm_stderr = []\n",
    "RF_means = []\n",
    "RF_stderr = []\n",
    "KNN_means = []\n",
    "KNN_stderr = []\n",
    "for n in SampleSizes:\n",
    "    mean, err = modBootstrapper(bs_train, bs_test, 25, n, \"LR\", 0.1)# collecting means and stderrs for LR model\n",
    "    LR_means.append(mean)\n",
    "    Lr_stderr.append(err)\n",
    "    mean2, err2 = modBootstrapper(bs_train, bs_test, 25, n,\"SVM\", 0.1)# collecting means and stderrs for SVM model\n",
    "    svm_means.append(mean2)\n",
    "    svm_stderr.append(err2)\n",
    "    mean3, err3 = modBootstrapper(bs_train, bs_test, 25, n,\"RF\", 0.1)# collecting means and stderrs for SVM model\n",
    "    RF_means.append(mean3)\n",
    "    RF_stderr.append(err3)\n",
    "    mean4, err4 = modBootstrapper(bs_train, bs_test, 25, n,\"KNN\", 0.1)# collecting means and stderrs for SVM model\n",
    "    KNN_means.append(mean4)\n",
    "    KNN_stderr.append(err4)\n",
    "    print(n)  "
   ]
  },
  {
   "cell_type": "code",
   "execution_count": 75,
   "metadata": {},
   "outputs": [
    {
     "data": {
      "text/plain": [
       "Text(0,0.5,'roc_auc_score')"
      ]
     },
     "execution_count": 75,
     "metadata": {},
     "output_type": "execute_result"
    },
    {
     "data": {
      "image/png": "[encoded data removed]",
      "text/plain": [
       "<Figure size 432x288 with 1 Axes>"
      ]
     },
     "metadata": {},
     "output_type": "display_data"
    }
   ],
   "source": [
    "plt.plot(np.log2(SampleSizes), LR_means, 'r', label = 'LR means')\n",
    "plt.plot(np.log2(SampleSizes), LR_means + np.array(Lr_stderr), 'r+-', label = 'LR means + stderr')\n",
    "plt.plot(np.log2(SampleSizes), LR_means - np.array(Lr_stderr), 'r--',  label = 'LR means - stderr')\n",
    "\n",
    "plt.plot(np.log2(SampleSizes), svm_means, 'g', label = 'SVM means')\n",
    "plt.plot(np.log2(SampleSizes), svm_means + np.array(svm_stderr), 'g+-', label = 'SVM means + stderr')\n",
    "plt.plot(np.log2(SampleSizes), svm_means - np.array(svm_stderr), 'g--', label = 'SVM means - stderr')\n",
    "\n",
    "plt.plot(np.log2(SampleSizes), RF_means, 'b', label = 'RF means')\n",
    "plt.plot(np.log2(SampleSizes), RF_means + np.array(RF_stderr), 'b+-', label = 'RF means + stderr')\n",
    "plt.plot(np.log2(SampleSizes), RF_means - np.array(RF_stderr), 'b--', label = 'RF means - stderr')\n",
    "\n",
    "plt.plot(np.log2(SampleSizes), KNN_means, 'm', label = 'KNN means')\n",
    "plt.plot(np.log2(SampleSizes), KNN_means + np.array(KNN_stderr), 'm+-', label = 'KNN means + stderr')\n",
    "plt.plot(np.log2(SampleSizes), KNN_means - np.array(KNN_stderr), 'm--', label = 'KNN means - stderr')\n",
    "\n",
    "plt.legend(bbox_to_anchor=(1.20, 0.5),loc = 10)\n",
    "plt.xlabel('Log2(Sample Sizes)')\n",
    "plt.ylabel('roc_auc_score')"
   ]
  },
  {
   "cell_type": "markdown",
   "metadata": {},
   "source": [
    "## Conclussion :    "
   ]
  },
  {
   "cell_type": "markdown",
   "metadata": {},
   "source": [
    "|-------------------------------------------|<br>\n",
    "| Model----------------------Accuracy|<br>\n",
    "|-------------------------------------------|<br>\n",
    "|Random Forest ---------------0.80|<br>\n",
    "|-------------------------------------------|<br>\n",
    "|Logistic regression ---------0.812 |<br>\n",
    "|-------------------------------------------|<br>\n",
    "| Svm -----------------------------0.80 |<br>\n",
    "|-------------------------------------------|<br>\n",
    "|Knn ------------------------------0.77 |<br>\n",
    "|-------------------------------------------|<br>\n",
    "|Bagging using RF ------------0.82|<br>\n",
    "|-------------------------------------------|<br>\n",
    "|Bagging using Log-Regr----0.81 |<br>\n",
    "|-------------------------------------------|<br>\n",
    "|Ada Boosting ------------------0.81 |<br>\n",
    "|-------------------------------------------|<br>\n",
    "|Multi-layer perceptron ------0.81 |<br>\n",
    "|-------------------------------------------|<br>\n",
    "<p>\n",
    "<span style=\"color:green\">\n",
    "    Our Project is about Lending club data anaysis as well as of same Data rate prediction., we have applied advanced as well as regular algorithms in this project to see model accuracies ,confusion matrices , learning curve and also roc-auc curve using tpr,fpr. <br>\n",
    "    Although all the algorithms except KNN have almost same accuracy, their False Negative rates differ which is our main evaluation metric. From the confusion matrices, we can infer that Support vector machine model had the least False Negative rate (FNR)\n",
    "    </span>\n",
    "    </p>\n"
   ]
  }
 ],
 "metadata": {
  "kernelspec": {
   "display_name": "Python 3",
   "language": "python",
   "name": "python3"
  },
  "language_info": {
   "codemirror_mode": {
    "name": "ipython",
    "version": 3
   },
   "file_extension": ".py",
   "mimetype": "text/x-python",
   "name": "python",
   "nbconvert_exporter": "python",
   "pygments_lexer": "ipython3",
   "version": "3.6.5"
  }
 },
 "nbformat": 4,
 "nbformat_minor": 2
}
